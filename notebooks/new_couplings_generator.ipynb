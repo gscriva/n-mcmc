{
 "cells": [
  {
   "cell_type": "markdown",
   "metadata": {},
   "source": [
    "# Spin Glass Generator with Random Connectivty\n",
    "\n",
    "## Main Idea\n",
    "\n",
    "We want to implement a smart method to enable different connectivity without boilerplate, using an adjacency matrix.\n",
    "The next step should be to use a different method to compute the energy, more efficient."
   ]
  },
  {
   "cell_type": "markdown",
   "metadata": {},
   "source": []
  },
  {
   "cell_type": "code",
   "execution_count": null,
   "metadata": {},
   "outputs": [],
   "source": [
    "from typing import Optional, Union, List, Dict, Tuple\n",
    "\n",
    "import numpy as np\n",
    "from numba import jit\n",
    "import matplotlib.pyplot as plt"
   ]
  },
  {
   "cell_type": "code",
   "execution_count": null,
   "metadata": {},
   "outputs": [],
   "source": [
    "class Adjacency:\n",
    "    def __init__(self):\n",
    "        self.AdjDict: Dict[Tuple(int, int), float] = {}\n",
    "\n",
    "        self.Neighbours: Optional[np.ndarray] = None\n",
    "        self.SpinSide: Optional[int] = None\n",
    "        self.Connectivity: Union[int, List[int]] = None\n",
    "        self.MaxNeighbours: Optional[int] = None\n",
    "\n",
    "    def create_adjacency(self, spin_side: int, connectivity: Union[int, List[int]], seed: int = 12345):\n",
    "        assert connectivity <= 7, \"Not implemented for connectivity greater than 7\"\n",
    "        self.SpinSide = spin_side\n",
    "        self.Connectivity = connectivity\n",
    "        self._create_adjacency(spin_side, connectivity, seed=seed)\n",
    "        self._create_neighbours()\n",
    "\n",
    "    def _create_neighbours(self):\n",
    "        self.Neighbours = np.zeros((self.SpinSide**2, self.MaxNeighbours, 2))\n",
    "        for spins, coupling in self.AdjDict.items():\n",
    "            num_nghb = np.where(self.Neighbours[spins[0], :, 1]==0)[0]\n",
    "            self.Neighbours[spins[0], num_nghb[0]] = spins[1], coupling\n",
    "            num_nghb = np.where(self.Neighbours[spins[1], :, 1]==0)[0]\n",
    "            self.Neighbours[spins[1], num_nghb[0]] = spins[0], coupling\n",
    "\n",
    "    def get_adjadict(self) -> Dict[tuple, int]:\n",
    "        return self.AdjDict\n",
    "    \n",
    "    def get_neighbours(self) -> np.ndarray:\n",
    "        return self.Neighbours\n",
    "\n",
    "    def _create_adjacency(self, spin_side: int, connectivity: Union[int, List[int]], seed: int = 12345):\n",
    "        if isinstance(connectivity, int):\n",
    "            connectivity = np.arange(connectivity) + 1\n",
    "\n",
    "        # get the number of neighbours\n",
    "        neighbs = np.zeros(connectivity[-1], dtype=int)\n",
    "        neighbs[connectivity - 1] = 4\n",
    "\n",
    "        # if connectivity is 4 or 7 we have 4 more neighbours\n",
    "        neighbs[np.logical_and(connectivity %3 == 0, connectivity != 0)] *= 2\n",
    "        self.MaxNeighbours = neighbs.max()\n",
    "\n",
    "        # set a seed to sample couplings\n",
    "        np.random.seed(seed)\n",
    "        for i in range(spin_side):\n",
    "            for j in range(spin_side):\n",
    "                spin_num = j + i*spin_side\n",
    "                # fill Adjacency dictionary\n",
    "                self._create_couplings(np.asarray([i,j]), spin_num, spin_side, connectivity, seed)\n",
    "\n",
    "    def _create_couplings(self, idxs: np.ndarray, spin_num: int, spin_side: int, connectivity: Union[int, List[int]], seed: int):\n",
    "        for connect in connectivity:\n",
    "            if connect == 1:\n",
    "                # right spin coupling\n",
    "                if idxs[1] + 1 < spin_side:\n",
    "                    self.AdjDict.update({(spin_num, spin_num + 1): np.random.normal()})\n",
    "                # down spin coupling\n",
    "                if idxs[0] + 1 < spin_side:\n",
    "                    self.AdjDict.update({(spin_num, spin_num + spin_side): np.random.normal()})\n",
    "            if connect == 2:\n",
    "                # up-right spin coupling\n",
    "                if (idxs + [-1, 1] != [-1, spin_side]).all():\n",
    "                    self.AdjDict.update({(spin_num, spin_num - spin_side + 1): np.random.normal()})\n",
    "                if (idxs + [1,1] != [spin_side, spin_side]).all():\n",
    "                    self.AdjDict.update({(spin_num, spin_num + spin_side + 1): np.random.normal()})\n",
    "            if connect == 3:\n",
    "                # 2-right spin coupling\n",
    "                if idxs[1] + 2 < spin_side:\n",
    "                    self.AdjDict.update({(spin_num, spin_num + 2): np.random.normal()})\n",
    "                # 2-down spin coupling\n",
    "                if idxs[0] + 2 != spin_side:\n",
    "                    self.AdjDict.update({(spin_num, spin_num + 2*spin_side): np.random.normal()})\n",
    "            if connect == 4:\n",
    "                if (idxs + [-2, 1] != [-1, spin_side]).all():\n",
    "                    self.AdjDict.update({(spin_num, spin_num - 2*spin_side + 1): np.random.normal()})\n",
    "                if (idxs + [-1, 2] != [-1, spin_side]).all():\n",
    "                    self.AdjDict.update({(spin_num, spin_num - spin_side + 2): np.random.normal()})\n",
    "                if (idxs + [1, 2] != [spin_side, spin_side]).all():\n",
    "                    self.AdjDict.update({(spin_num, spin_num + spin_side + 2): np.random.normal()})\n",
    "                if (idxs + [2, 1] != [spin_side, spin_side]).all():\n",
    "                    self.AdjDict.update({(spin_num, spin_num + 2*spin_side + 1): np.random.normal()})\n",
    "            if connect == 5:\n",
    "                if idxs[1] + 3 < spin_side:\n",
    "                    self.AdjDict.update({(spin_num, spin_num + 3): np.random.normal()})\n",
    "                if idxs[0] + 3 < spin_side:\n",
    "                    self.AdjDict.update({(spin_num, spin_num + 3*spin_side): np.random.normal()})\n",
    "            if connect == 6:\n",
    "                if (idxs[0] - 2 < -1) and (idxs[1] + 2 < spin_side):\n",
    "                    self.AdjDict.update({(spin_num, spin_num - 2*spin_side + 2): np.random.normal()})\n",
    "                if (idxs + [2,2] < [spin_side, spin_side]).all():\n",
    "                    self.AdjDict.update({(spin_num, spin_num + 2*spin_side + 2): np.random.normal()})\n",
    "            if connect == 7:\n",
    "                if (idxs[0] - 3 > -1) and  (idxs[1] - 3 < spin_side):\n",
    "                    self.AdjDict.update({(spin_num, spin_num - 3*spin_side + 1): np.random.normal()})\n",
    "                if (idxs[0] - 1 > -1) and (idxs[1] + 3 < spin_side):\n",
    "                    self.AdjDict.update({(spin_num, spin_num - spin_side + 3): np.random.normal()})\n",
    "                if (idxs + [1, 3] < [spin_side, spin_side]).all():\n",
    "                    self.AdjDict.update({(spin_num, spin_num + spin_side + 3): np.random.normal()})\n",
    "                if (idxs + [3, 1] < [spin_side, spin_side]).all():\n",
    "                    self.AdjDict.update({(spin_num, spin_num + 3*spin_side + 1): np.random.normal()})\n",
    "\n",
    "\n",
    "    def create_from_dict(self, adjacency_dict: Dict[tuple, int]):\n",
    "        assert isinstance(adjacency_dict, Dict)"
   ]
  },
  {
   "cell_type": "code",
   "execution_count": null,
   "metadata": {},
   "outputs": [],
   "source": [
    "emanuè = Adjacency()\n",
    "emanuè.create_adjacency(3, 1)\n",
    "emanuè.get_neighbours()"
   ]
  },
  {
   "cell_type": "code",
   "execution_count": null,
   "metadata": {},
   "outputs": [],
   "source": [
    "emanuè = Adjacency()\n",
    "emanuè.create_adjacency(20, 1)\n",
    "\n",
    "couplings = []\n",
    "for value in emanuè.get_adjadict().values():\n",
    "    couplings.append(value)"
   ]
  },
  {
   "cell_type": "code",
   "execution_count": null,
   "metadata": {},
   "outputs": [],
   "source": [
    "print(len(couplings))\n",
    "\n",
    "plt.hist(np.asarray(couplings))"
   ]
  },
  {
   "cell_type": "code",
   "execution_count": null,
   "metadata": {},
   "outputs": [],
   "source": []
  },
  {
   "cell_type": "code",
   "execution_count": null,
   "metadata": {},
   "outputs": [],
   "source": []
  },
  {
   "cell_type": "code",
   "execution_count": null,
   "metadata": {},
   "outputs": [],
   "source": []
  },
  {
   "cell_type": "code",
   "execution_count": null,
   "metadata": {},
   "outputs": [],
   "source": []
  },
  {
   "cell_type": "code",
   "execution_count": null,
   "metadata": {},
   "outputs": [],
   "source": [
    "@jit(nopython=True)\n",
    "def compute_eng_open(Lx: int, J: np.ndarray, S0: np.ndarray) -> float:\n",
    "    energy = 0.0\n",
    "    for kx in range(Lx):\n",
    "        for ky in range(Lx):\n",
    "            k = kx + (Lx * ky)\n",
    "            kR = k - ky  # coupling to the right of S0[kx,ky]\n",
    "            kD = k  # coupling to the down of S0[kx,ky]\n",
    "\n",
    "            # Tries to find a spin to right, if no spin energy contribution is 0.\n",
    "            Rs = S0[kx + 1, ky] * J[kR, 0] if (kx + 1) % Lx != 0 else 0\n",
    "            # Tries to find a spin to left, if no spin energy contribution is 0.\n",
    "            Ds = S0[kx, ky + 1] * J[kD, 1] if (ky + 1) % Lx != 0 else 0\n",
    "\n",
    "            energy += -S0[kx, ky] * (Rs + Ds)\n",
    "    return energy / (Lx ** 2)"
   ]
  },
  {
   "cell_type": "code",
   "execution_count": null,
   "metadata": {},
   "outputs": [],
   "source": [
    "@jit(nopython=True)\n",
    "def compute_prob(eng: float, beta: float, num_spin: int) -> float:\n",
    "    \"\"\"Boltzmann probability distribution\n",
    "\n",
    "    Args:\n",
    "        eng (float): Energy of the sample.\n",
    "        beta (float): Inverse temperature\n",
    "        num_spin (int): Number of spins in the sample.\n",
    "\n",
    "    Returns:\n",
    "        float: Log-Boltzmann probability.\n",
    "    \"\"\"\n",
    "    return - beta * num_spin * eng"
   ]
  },
  {
   "cell_type": "code",
   "execution_count": null,
   "metadata": {},
   "outputs": [],
   "source": [
    "data = np.load(\"/home/beppe/neural-mcmc/sample-100000_size-484_2021-11-15_14_31_46.npz\")\n",
    "\n",
    "L = data[\"sample\"].shape[-1]\n",
    "\n",
    "np.random.seed(12345)\n",
    "J = np.random.normal(size=(L**2 - L, 2))\n",
    "\n",
    "boltz_prob = []\n",
    "engs = []\n",
    "for i, sample in enumerate(data[\"sample\"]):\n",
    "    eng = compute_eng_open(L, J, sample)\n",
    "    engs.append(eng)\n",
    "    boltz_prob.append(compute_prob(eng, beta=1., num_spin=L**2))\n",
    "\n",
    "#print(np.exp(-new_prob))"
   ]
  },
  {
   "cell_type": "code",
   "execution_count": null,
   "metadata": {},
   "outputs": [],
   "source": [
    "new_prob = np.asarray(boltz_prob)\n",
    "print(boltz_prob[:10])"
   ]
  },
  {
   "cell_type": "code",
   "execution_count": null,
   "metadata": {},
   "outputs": [],
   "source": [
    "weights = boltz_prob - data[\"log_prob\"]\n",
    "print(weights[:10])\n",
    "weights -= np.log(np.exp(weights).sum())\n",
    "print(weights[:10], weights.shape)\n"
   ]
  },
  {
   "cell_type": "code",
   "execution_count": null,
   "metadata": {},
   "outputs": [],
   "source": [
    "engs = np.asarray(engs)\n",
    "new_eng = (engs*np.exp(weights)).sum()\n",
    "print(new_eng)"
   ]
  },
  {
   "cell_type": "code",
   "execution_count": null,
   "metadata": {},
   "outputs": [],
   "source": []
  },
  {
   "cell_type": "code",
   "execution_count": null,
   "metadata": {},
   "outputs": [],
   "source": [
    "new_idxs = np.random.choice(np.arange(data[\"sample\"].shape[0]), size=10000, replace=False, p=np.exp(weights))\n",
    "print(new_idxs.shape)"
   ]
  },
  {
   "cell_type": "code",
   "execution_count": null,
   "metadata": {},
   "outputs": [],
   "source": [
    "print(data[\"log_prob\"][new_idxs])"
   ]
  },
  {
   "cell_type": "code",
   "execution_count": null,
   "metadata": {},
   "outputs": [],
   "source": [
    "new_data = {}\n",
    "new_data.update({\"sample\": data[\"sample\"][new_idxs], \"log_prob\": data[\"log_prob\"][new_idxs]})"
   ]
  },
  {
   "cell_type": "code",
   "execution_count": null,
   "metadata": {},
   "outputs": [],
   "source": [
    "np.savez(\"new_data\", **new_data)"
   ]
  },
  {
   "cell_type": "code",
   "execution_count": null,
   "metadata": {},
   "outputs": [],
   "source": []
  }
 ],
 "metadata": {
  "interpreter": {
   "hash": "44e32361504ecffb4069183ffd9479e020b26ae773c88426990cda2749af0a19"
  },
  "kernelspec": {
   "display_name": "Python 3.8.11 64-bit ('test': conda)",
   "language": "python",
   "name": "python3"
  },
  "language_info": {
   "codemirror_mode": {
    "name": "ipython",
    "version": 3
   },
   "file_extension": ".py",
   "mimetype": "text/x-python",
   "name": "python",
   "nbconvert_exporter": "python",
   "pygments_lexer": "ipython3",
   "version": "3.8.11"
  },
  "orig_nbformat": 4
 },
 "nbformat": 4,
 "nbformat_minor": 2
}
